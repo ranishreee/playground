{
 "cells": [
  {
   "cell_type": "markdown",
   "id": "2281b85b",
   "metadata": {},
   "source": [
    "This is a simple Data Question-Answer (QA) bot that can fetch data from the relevant tables/files \n",
    "based on the user query by running a python query which is relevant to the question.\n",
    "Note : this is a bot without memory\n",
    "\n",
    "Pre-requisites : Mistral API Key"
   ]
  },
  {
   "cell_type": "code",
   "execution_count": 246,
   "id": "86fde20e",
   "metadata": {},
   "outputs": [],
   "source": [
    "from langchain_mistralai.chat_models import ChatMistralAI\n",
    "from langchain_core.tools import Tool, tool\n",
    "from langchain_core.prompts import ChatPromptTemplate,PromptTemplate\n",
    "from typing import Annotated, TypedDict\n",
    "from langgraph.prebuilt import create_react_agent\n",
    "from langchain_experimental.utilities import PythonREPL\n",
    "from langgraph.graph import StateGraph,START,END\n",
    "from langgraph.checkpoint.memory import MemorySaver"
   ]
  },
  {
   "cell_type": "code",
   "execution_count": null,
   "id": "e4c90ef2",
   "metadata": {},
   "outputs": [],
   "source": [
    "api_key = <your API key>"
   ]
  },
  {
   "cell_type": "code",
   "execution_count": 249,
   "id": "221a130f",
   "metadata": {},
   "outputs": [],
   "source": [
    "class State(TypedDict):\n",
    "    question : Annotated[str, \"The user question\"]\n",
    "    py_code : Annotated[str, \"The python code\"]\n",
    "    result : Annotated[str, \"The output from the python code\"]\n",
    "    answer : Annotated[str, \"The final answer\"]"
   ]
  },
  {
   "cell_type": "code",
   "execution_count": 250,
   "id": "6b2afa18",
   "metadata": {},
   "outputs": [],
   "source": [
    "def write_python(state:State)->str:\n",
    "\n",
    "    \"\"\"write python code \"\"\"\n",
    "\n",
    "    llm = ChatMistralAI(api_key=api_key, model_name='mistral-large-latest') \n",
    "    response = llm.invoke(input=[\n",
    "        (\"system\", f\"\"\"Write a python code to fetch data from the relevant .csv file based on the given questiom.\n",
    "                        Available csv files - [products.csv]. All column names are are in lowercase.\n",
    "                        Return only the final python code as string that can be exceuted by Python Repl\"\"\"),\n",
    "        (\"human\",\"what are the available products\")\n",
    "                                 ])\n",
    "    return {\"question\" : state[\"question\"], \"py_code\" : response.content, \"result\" : \"\", \"answer\" : \"\"}"
   ]
  },
  {
   "cell_type": "code",
   "execution_count": 251,
   "id": "cc826950",
   "metadata": {},
   "outputs": [],
   "source": [
    "def execute_python_code(state:State)->str:\n",
    "    \"\"\"Exceutes the python code and returns the result\"\"\"\n",
    "    python_repl = PythonREPL()\n",
    "    py_code = state[\"py_code\"]\n",
    "    return {\"question\": state[\"question\"],  \"py_code\" : state[ \"py_code\"] ,\"result\":python_repl.run(py_code), \"answer\" : \"\"}"
   ]
  },
  {
   "cell_type": "code",
   "execution_count": 252,
   "id": "2e23a729",
   "metadata": {},
   "outputs": [],
   "source": [
    "def generate(state:State)->str:\n",
    "    \"\"\"generate the final answer\"\"\"\n",
    "    llm = ChatMistralAI(api_key=api_key, model_name='mistral-large-latest') \n",
    "    response = llm.invoke(input=[(\"system\",f\"\"\"With the given question and result, generate the final answer. Always append the answer with 'FINAL ANSWER'\n",
    "    {state[\"question\"]}\n",
    "    {state[\"result\"]}\"\"\")])\n",
    "    return {\"question\": state[\"question\"],  \"py_code\" : state[ \"py_code\"] ,\"result\": state[\"result\"], \"answer\" : response.content }\n"
   ]
  },
  {
   "cell_type": "code",
   "execution_count": 253,
   "id": "d0553c15",
   "metadata": {},
   "outputs": [],
   "source": [
    "import uuid\n",
    "\n",
    "thread_id = uuid.uuid4()\n",
    "config = {\"configurable\":{\"thread_id\":thread_id}}\n",
    "memory = MemorySaver()"
   ]
  },
  {
   "cell_type": "code",
   "execution_count": 254,
   "id": "d4abaef9",
   "metadata": {},
   "outputs": [
    {
     "data": {
      "text/plain": [
       "<langgraph.graph.state.StateGraph at 0x112be19a0>"
      ]
     },
     "execution_count": 254,
     "metadata": {},
     "output_type": "execute_result"
    }
   ],
   "source": [
    "workflow = StateGraph(State)\n",
    "workflow.add_node(\"write_python\",write_python)\n",
    "workflow.add_node(\"execute_python_code\", execute_python_code)\n",
    "workflow.add_node(\"generate\",generate)"
   ]
  },
  {
   "cell_type": "code",
   "execution_count": 255,
   "id": "98feb014",
   "metadata": {},
   "outputs": [
    {
     "data": {
      "text/plain": [
       "<langgraph.graph.state.StateGraph at 0x112be19a0>"
      ]
     },
     "execution_count": 255,
     "metadata": {},
     "output_type": "execute_result"
    }
   ],
   "source": [
    "workflow.add_edge(START,\"write_python\")\n",
    "workflow.add_edge(\"write_python\",\"execute_python_code\")\n",
    "workflow.add_edge(\"execute_python_code\",\"generate\")"
   ]
  },
  {
   "cell_type": "code",
   "execution_count": 256,
   "id": "32d446ec",
   "metadata": {},
   "outputs": [
    {
     "data": {
      "text/plain": [
       "Graph(nodes={'__start__': Node(id='__start__', name='__start__', data=RunnablePassthrough(), metadata=None), 'write_python': Node(id='write_python', name='write_python', data=write_python(tags=None, recurse=True, explode_args=False, func_accepts_config=False, func_accepts={}), metadata=None), 'execute_python_code': Node(id='execute_python_code', name='execute_python_code', data=execute_python_code(tags=None, recurse=True, explode_args=False, func_accepts_config=False, func_accepts={}), metadata={'__interrupt': 'before'}), 'generate': Node(id='generate', name='generate', data=generate(tags=None, recurse=True, explode_args=False, func_accepts_config=False, func_accepts={}), metadata=None), '__end__': Node(id='__end__', name='__end__', data=None, metadata=None)}, edges=[Edge(source='__start__', target='write_python', data=None, conditional=False), Edge(source='execute_python_code', target='generate', data=None, conditional=False), Edge(source='write_python', target='execute_python_code', data=None, conditional=False), Edge(source='generate', target='__end__', data=None, conditional=False)])"
      ]
     },
     "execution_count": 256,
     "metadata": {},
     "output_type": "execute_result"
    }
   ],
   "source": [
    "graph = workflow.compile(checkpointer=memory, interrupt_before=[\"execute_python_code\"])\n",
    "graph.get_graph()"
   ]
  },
  {
   "cell_type": "code",
   "execution_count": 257,
   "id": "f552e142",
   "metadata": {},
   "outputs": [
    {
     "name": "stdout",
     "output_type": "stream",
     "text": [
      "{'write_python': {'question': 'what are the available products', 'py_code': \"```python\\nimport pandas as pd\\n\\n# Load the products.csv file\\ndata = pd.read_csv('products.csv')\\n\\n# Display the available products\\navailable_products = data['product_name'].tolist()\\nprint(available_products)\\n```\", 'result': '', 'answer': ''}}\n",
      "{'__interrupt__': ()}\n",
      "{'execute_python_code': {'question': 'what are the available products', 'py_code': \"```python\\nimport pandas as pd\\n\\n# Load the products.csv file\\ndata = pd.read_csv('products.csv')\\n\\n# Display the available products\\navailable_products = data['product_name'].tolist()\\nprint(available_products)\\n```\", 'result': \"['lakme red lipstick', 'lakme nude lipstick', 'lakme pink lipstick', 'lakme brown lipstick', 'huda red lipstick', 'huda nude lipstick', 'huda pink lipstick', 'huda brown lipstick', 'huda concealor-1', 'huda concealor-2', 'maybelline concealor-1', 'maybelline concealor-2']\\n\", 'answer': ''}}\n",
      "{'generate': {'question': 'what are the available products', 'py_code': \"```python\\nimport pandas as pd\\n\\n# Load the products.csv file\\ndata = pd.read_csv('products.csv')\\n\\n# Display the available products\\navailable_products = data['product_name'].tolist()\\nprint(available_products)\\n```\", 'result': \"['lakme red lipstick', 'lakme nude lipstick', 'lakme pink lipstick', 'lakme brown lipstick', 'huda red lipstick', 'huda nude lipstick', 'huda pink lipstick', 'huda brown lipstick', 'huda concealor-1', 'huda concealor-2', 'maybelline concealor-1', 'maybelline concealor-2']\\n\", 'answer': 'The available products are:\\n\\n- Lakme Lipsticks:\\n  - Lakme red lipstick\\n  - Lakme nude lipstick\\n  - Lakme pink lipstick\\n  - Lakme brown lipstick\\n\\n- Huda Lipsticks:\\n  - Huda red lipstick\\n  - Huda nude lipstick\\n  - Huda pink lipstick\\n  - Huda brown lipstick\\n\\n- Huda Concealors:\\n  - Huda concealor-1\\n  - Huda concealor-2\\n\\n- Maybelline Concealors:\\n  - Maybelline concealor-1\\n  - Maybelline concealor-2\\n\\nFINAL ANSWER'}}\n",
      "question : what are the available products\n",
      "answer: The available products are:\n",
      "\n",
      "- Lakme Lipsticks:\n",
      "  - Lakme red lipstick\n",
      "  - Lakme nude lipstick\n",
      "  - Lakme pink lipstick\n",
      "  - Lakme brown lipstick\n",
      "\n",
      "- Huda Lipsticks:\n",
      "  - Huda red lipstick\n",
      "  - Huda nude lipstick\n",
      "  - Huda pink lipstick\n",
      "  - Huda brown lipstick\n",
      "\n",
      "- Huda Concealors:\n",
      "  - Huda concealor-1\n",
      "  - Huda concealor-2\n",
      "\n",
      "- Maybelline Concealors:\n",
      "  - Maybelline concealor-1\n",
      "  - Maybelline concealor-2\n",
      "\n",
      "FINAL ANSWER\n"
     ]
    }
   ],
   "source": [
    "for step in graph.stream(\n",
    "    {\"question\":\"what are the available products\"},\n",
    "    config=config,\n",
    "    stream_mode=\"updates\"\n",
    "):\n",
    "    print(step)\n",
    "\n",
    "try:\n",
    "    user_approval = input(\"Do you want to go to execute query? (y/n): \")\n",
    "except Exception:\n",
    "    user_approval = \"n\"\n",
    "\n",
    "if user_approval.lower() == \"y\":\n",
    "    # If approved, continue the graph execution\n",
    "    for step in graph.stream(None, config, stream_mode=\"updates\"):\n",
    "        print(step)\n",
    "else:\n",
    "    print(\"Operation cancelled by user.\")\n",
    "\n",
    "print(f'question : {step[\"generate\"][\"question\"]}')\n",
    "print(f'answer: {step[\"generate\"][\"answer\"]}')"
   ]
  },
  {
   "cell_type": "code",
   "execution_count": 258,
   "id": "5dbe59d2",
   "metadata": {},
   "outputs": [
    {
     "name": "stdout",
     "output_type": "stream",
     "text": [
      "{'write_python': {'question': 'what are the available brands', 'py_code': \"```python\\nimport csv\\n\\nwith open('products.csv', 'r') as file:\\n    reader = csv.DictReader(file)\\n    products = [row['product_name'] for row in reader]\\n\\nprint(products)\\n```\", 'result': '', 'answer': ''}}\n",
      "{'__interrupt__': ()}\n",
      "{'execute_python_code': {'question': 'what are the available brands', 'py_code': \"```python\\nimport csv\\n\\nwith open('products.csv', 'r') as file:\\n    reader = csv.DictReader(file)\\n    products = [row['product_name'] for row in reader]\\n\\nprint(products)\\n```\", 'result': \"['lakme red lipstick', 'lakme nude lipstick', 'lakme pink lipstick', 'lakme brown lipstick', 'huda red lipstick', 'huda nude lipstick', 'huda pink lipstick', 'huda brown lipstick', 'huda concealor-1', 'huda concealor-2', 'maybelline concealor-1', 'maybelline concealor-2']\\n\", 'answer': ''}}\n",
      "{'generate': {'question': 'what are the available brands', 'py_code': \"```python\\nimport csv\\n\\nwith open('products.csv', 'r') as file:\\n    reader = csv.DictReader(file)\\n    products = [row['product_name'] for row in reader]\\n\\nprint(products)\\n```\", 'result': \"['lakme red lipstick', 'lakme nude lipstick', 'lakme pink lipstick', 'lakme brown lipstick', 'huda red lipstick', 'huda nude lipstick', 'huda pink lipstick', 'huda brown lipstick', 'huda concealor-1', 'huda concealor-2', 'maybelline concealor-1', 'maybelline concealor-2']\\n\", 'answer': 'Based on the provided list, the available brands are:\\n\\n1. Lakme\\n2. Huda\\n3. Maybelline\\n\\nFINAL ANSWER'}}\n",
      "question : what are the available brands\n",
      "answer: Based on the provided list, the available brands are:\n",
      "\n",
      "1. Lakme\n",
      "2. Huda\n",
      "3. Maybelline\n",
      "\n",
      "FINAL ANSWER\n"
     ]
    }
   ],
   "source": [
    "for step in graph.stream(\n",
    "    {\"question\":\"what are the available brands\"},\n",
    "    config=config,\n",
    "    stream_mode=\"updates\"\n",
    "):\n",
    "    print(step)\n",
    "\n",
    "try:\n",
    "    user_approval = input(\"Do you want to go to execute query? (y/n): \")\n",
    "except Exception:\n",
    "    user_approval = \"n\"\n",
    "\n",
    "if user_approval.lower() == \"y\":\n",
    "    # If approved, continue the graph execution\n",
    "    for step in graph.stream(None, config, stream_mode=\"updates\"):\n",
    "        print(step)\n",
    "else:\n",
    "    print(\"Operation cancelled by user.\")\n",
    "\n",
    "print(f'question : {step[\"generate\"][\"question\"]}')\n",
    "print(f'answer: {step[\"generate\"][\"answer\"]}')"
   ]
  },
  {
   "cell_type": "code",
   "execution_count": 259,
   "id": "be591fce",
   "metadata": {},
   "outputs": [
    {
     "name": "stdout",
     "output_type": "stream",
     "text": [
      "{'write_python': {'question': 'what are the available categories', 'py_code': \"```python\\nimport pandas as pd\\n\\n# Load the data from the CSV file\\ndata = pd.read_csv('products.csv')\\n\\n# Assuming there is a column named 'product_name' that lists the available products\\navailable_products = data['product_name'].tolist()\\n\\n# Print the available products\\nprint(available_products)\\n```\", 'result': '', 'answer': ''}}\n",
      "{'__interrupt__': ()}\n",
      "{'execute_python_code': {'question': 'what are the available categories', 'py_code': \"```python\\nimport pandas as pd\\n\\n# Load the data from the CSV file\\ndata = pd.read_csv('products.csv')\\n\\n# Assuming there is a column named 'product_name' that lists the available products\\navailable_products = data['product_name'].tolist()\\n\\n# Print the available products\\nprint(available_products)\\n```\", 'result': \"['lakme red lipstick', 'lakme nude lipstick', 'lakme pink lipstick', 'lakme brown lipstick', 'huda red lipstick', 'huda nude lipstick', 'huda pink lipstick', 'huda brown lipstick', 'huda concealor-1', 'huda concealor-2', 'maybelline concealor-1', 'maybelline concealor-2']\\n\", 'answer': ''}}\n",
      "{'generate': {'question': 'what are the available categories', 'py_code': \"```python\\nimport pandas as pd\\n\\n# Load the data from the CSV file\\ndata = pd.read_csv('products.csv')\\n\\n# Assuming there is a column named 'product_name' that lists the available products\\navailable_products = data['product_name'].tolist()\\n\\n# Print the available products\\nprint(available_products)\\n```\", 'result': \"['lakme red lipstick', 'lakme nude lipstick', 'lakme pink lipstick', 'lakme brown lipstick', 'huda red lipstick', 'huda nude lipstick', 'huda pink lipstick', 'huda brown lipstick', 'huda concealor-1', 'huda concealor-2', 'maybelline concealor-1', 'maybelline concealor-2']\\n\", 'answer': 'The available categories are:\\n\\n1. Lakme Lipsticks:\\n   - lakme red lipstick\\n   - lakme nude lipstick\\n   - lakme pink lipstick\\n   - lakme brown lipstick\\n\\n2. Huda Lipsticks:\\n   - huda red lipstick\\n   - huda nude lipstick\\n   - huda pink lipstick\\n   - huda brown lipstick\\n\\n3. Huda Concealors:\\n   - huda concealor-1\\n   - huda concealor-2\\n\\n4. Maybelline Concealors:\\n   - maybelline concealor-1\\n   - maybelline concealor-2\\n\\nFINAL ANSWER'}}\n",
      "question : what are the available categories\n",
      "answer: The available categories are:\n",
      "\n",
      "1. Lakme Lipsticks:\n",
      "   - lakme red lipstick\n",
      "   - lakme nude lipstick\n",
      "   - lakme pink lipstick\n",
      "   - lakme brown lipstick\n",
      "\n",
      "2. Huda Lipsticks:\n",
      "   - huda red lipstick\n",
      "   - huda nude lipstick\n",
      "   - huda pink lipstick\n",
      "   - huda brown lipstick\n",
      "\n",
      "3. Huda Concealors:\n",
      "   - huda concealor-1\n",
      "   - huda concealor-2\n",
      "\n",
      "4. Maybelline Concealors:\n",
      "   - maybelline concealor-1\n",
      "   - maybelline concealor-2\n",
      "\n",
      "FINAL ANSWER\n"
     ]
    }
   ],
   "source": [
    "for step in graph.stream(\n",
    "    {\"question\":\"what are the available categories\"},\n",
    "    config=config,\n",
    "    stream_mode=\"updates\"\n",
    "):\n",
    "    print(step)\n",
    "\n",
    "try:\n",
    "    user_approval = input(\"Do you want to go to execute query? (y/n): \")\n",
    "except Exception:\n",
    "    user_approval = \"n\"\n",
    "\n",
    "if user_approval.lower() == \"y\":\n",
    "    # If approved, continue the graph execution\n",
    "    for step in graph.stream(None, config, stream_mode=\"updates\"):\n",
    "        print(step)\n",
    "else:\n",
    "    print(\"Operation cancelled by user.\")\n",
    "\n",
    "print(f'question : {step[\"generate\"][\"question\"]}')\n",
    "print(f'answer: {step[\"generate\"][\"answer\"]}')"
   ]
  }
 ],
 "metadata": {
  "kernelspec": {
   "display_name": "Python 3",
   "language": "python",
   "name": "python3"
  },
  "language_info": {
   "codemirror_mode": {
    "name": "ipython",
    "version": 3
   },
   "file_extension": ".py",
   "mimetype": "text/x-python",
   "name": "python",
   "nbconvert_exporter": "python",
   "pygments_lexer": "ipython3",
   "version": "3.9.6"
  }
 },
 "nbformat": 4,
 "nbformat_minor": 5
}
